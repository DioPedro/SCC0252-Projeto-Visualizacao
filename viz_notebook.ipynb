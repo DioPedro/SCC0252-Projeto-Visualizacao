{
 "cells": [
  {
   "cell_type": "markdown",
   "metadata": {},
   "source": [
    "# Visualização dos gráficos"
   ]
  },
  {
   "cell_type": "code",
   "execution_count": null,
   "metadata": {},
   "outputs": [],
   "source": [
    "import pandas as pd\n",
    "import numpy as np\n",
    "import plotly.express as px\n",
    "import json\n",
    "import geojson\n",
    "from urllib.request import urlopen\n",
    "import re"
   ]
  },
  {
   "cell_type": "markdown",
   "metadata": {},
   "source": [
    "# Carregando os dados CSV"
   ]
  },
  {
   "cell_type": "code",
   "execution_count": null,
   "metadata": {},
   "outputs": [],
   "source": [
    "df_city = pd.read_csv(\"etl_data/city.csv\", index_col=0)\n",
    "df_state = pd.read_csv(\"etl_data/state.csv\", index_col=0)\n",
    "df_region = pd.read_csv(\"etl_data/region.csv\", index_col=0)"
   ]
  },
  {
   "cell_type": "code",
   "execution_count": null,
   "metadata": {},
   "outputs": [],
   "source": [
    "brazil_code = 100\n",
    "with urlopen(f'https://raw.githubusercontent.com/tbrugz/geodata-br/master/geojson/geojs-{brazil_code}-mun.json') as response:\n",
    "    brazil_json = json.loads(response.read())"
   ]
  },
  {
   "cell_type": "code",
   "execution_count": null,
   "metadata": {},
   "outputs": [],
   "source": [
    "with open('br_regions.geojson') as f:\n",
    "    regions_json = geojson.load(f)"
   ]
  },
  {
   "cell_type": "code",
   "execution_count": null,
   "metadata": {},
   "outputs": [],
   "source": [
    "df_brazil = df_city.loc[df_city.city == 'Aracaju'].groupby('month')['cases'].max()\n",
    "fig = px.area(df_brazil)\n",
    "fig.show()"
   ]
  },
  {
   "cell_type": "code",
   "execution_count": null,
   "metadata": {},
   "outputs": [],
   "source": [
    "df_brazil = df_city.loc[df_city.city == 'Aracaju'].groupby('month')['cases per day'].sum()\n",
    "fig = px.area(df_brazil)\n",
    "df_brazil.head()\n",
    "fig.show()"
   ]
  },
  {
   "cell_type": "code",
   "execution_count": null,
   "metadata": {},
   "outputs": [],
   "source": [
    "with urlopen('https://raw.githubusercontent.com/codeforamerica/click_that_hood/master/public/data/brazil-states.geojson') as response:\n",
    "    Brazil = json.load(response)"
   ]
  },
  {
   "cell_type": "code",
   "execution_count": null,
   "metadata": {},
   "outputs": [],
   "source": [
    "month_cases = pd.DataFrame(df_state.groupby(['full_state', 'month'])['cases per day'].sum()).reset_index()\n",
    "month_cases"
   ]
  },
  {
   "cell_type": "code",
   "execution_count": null,
   "metadata": {},
   "outputs": [],
   "source": [
    "from plotly.offline import plot\n",
    "\n",
    "fig = px.choropleth(month_cases, geojson= Brazil, featureidkey = 'properties.name', \n",
    "                            locations='full_state', color='cases per day',\n",
    "                            color_continuous_scale=\"Viridis\",\n",
    "                            animation_frame = \"month\",\n",
    "                            #center = df_region.drop_duplicates('region')[[\"lat\", \"lon\"]].mean().to_dict(),\n",
    "                            range_color = (month_cases['cases per day'].min(), month_cases['cases per day'].max()))\n",
    "fig.update_geos(fitbounds = \"locations\", visible = False)\n",
    "fig.update_layout(margin={\"r\":0,\"t\":0,\"l\":0,\"b\":0})\n",
    "plot(fig)\n",
    "\n",
    "fig.show()"
   ]
  },
  {
   "cell_type": "code",
   "execution_count": null,
   "metadata": {},
   "outputs": [],
   "source": [
    "region_cases = pd.DataFrame(df_region.groupby(['region', 'month'])['cases per day'].sum()).reset_index()\n",
    "region_cases"
   ]
  },
  {
   "cell_type": "code",
   "execution_count": null,
   "metadata": {},
   "outputs": [],
   "source": [
    "region_cases"
   ]
  },
  {
   "cell_type": "code",
   "execution_count": null,
   "metadata": {},
   "outputs": [],
   "source": [
    "from plotly.offline import plot\n",
    "\n",
    "fig = px.choropleth(region_cases, geojson = regions_json, featureidkey = 'properties.nome', \n",
    "                            locations='region', color='cases per day',\n",
    "                            color_continuous_scale=\"Viridis\",\n",
    "                            animation_frame = \"month\",\n",
    "                            #center = df_region.drop_duplicates('region')[[\"lat\", \"lon\"]].mean().to_dict(),\n",
    "                            range_color = (region_cases['cases per day'].min(), region_cases['cases per day'].max()))\n",
    "fig.update_geos(fitbounds = \"locations\", visible = False)\n",
    "fig.update_layout(margin={\"r\":0,\"t\":0,\"l\":0,\"b\":0})\n",
    "plot(fig)\n",
    "\n",
    "fig.show()"
   ]
  },
  {
   "cell_type": "code",
   "execution_count": null,
   "metadata": {},
   "outputs": [],
   "source": [
    "geo_dict = {\n",
    "    'city': {\n",
    "        'geojson': brazil_json,\n",
    "        'featureidkey': 'properties.id',\n",
    "        'locations': 'city_code',\n",
    "    },\n",
    "    'state': {\n",
    "        'geojson': Brazil,\n",
    "        'featureidkey': 'properties.name', \n",
    "        'locations': 'full_state'\n",
    "    }, \n",
    "    'region': {\n",
    "        'geojson': regions_json,\n",
    "        'featureidkey': 'properties.nome', \n",
    "        'locations': 'region'\n",
    "    }\n",
    "}\n",
    "\n",
    "analysis_features = {\n",
    "    'cases',\n",
    "    'deaths',\n",
    "    'cases/population',\n",
    "    'deaths/population',\n",
    "    'cases per day/population',\n",
    "    'deaths per day/population',\n",
    "    'cases per day',\n",
    "    'deaths per day'\n",
    "}\n",
    "\n",
    "temporal_unities = {\n",
    "    'month',\n",
    "    'semester',\n",
    "    'year',\n",
    "    'date'\n",
    "} "
   ]
  },
  {
   "cell_type": "code",
   "execution_count": null,
   "metadata": {},
   "outputs": [],
   "source": [
    "df_city.groupby(['city_code', 'month'])['cases per day'].sum().reset_index()"
   ]
  },
  {
   "cell_type": "code",
   "execution_count": null,
   "metadata": {},
   "outputs": [],
   "source": [
    "def select_analysis(feature, time, data, dataframe):\n",
    "    groupbied = dataframe.groupby([data['locations'], time])[feature]\n",
    "    if re.match('^.*per day.*$', feature):\n",
    "        return pd.DataFrame(groupbied.sum()).reset_index()\n",
    "    \n",
    "    return pd.DataFrame(groupbied.max()).reset_index()"
   ]
  },
  {
   "cell_type": "code",
   "execution_count": null,
   "metadata": {},
   "outputs": [],
   "source": [
    "data = select_analysis('cases per day', 'month', geo_dict['region'])\n",
    "data\n",
    "# data = df_city.loc[df_city.city == 'Aracaju'].groupby('month')['cases per day']\n",
    "# fig = px.area(data.sum())\n",
    "# fig.show()"
   ]
  },
  {
   "cell_type": "markdown",
   "metadata": {},
   "source": [
    "## Testando medidas numéricas"
   ]
  },
  {
   "cell_type": "code",
   "execution_count": null,
   "metadata": {},
   "outputs": [],
   "source": [
    "df = select_analysis('cases per day', 'month', geo_dict['region'], df_region)\n",
    "\n",
    "fig = px.line(df, y='cases per day', x='month', color='region')\n",
    "fig.show()"
   ]
  },
  {
   "cell_type": "code",
   "execution_count": null,
   "metadata": {},
   "outputs": [],
   "source": [
    "from plotly.subplots import make_subplots\n",
    "import plotly.graph_objects as go\n",
    "\n",
    "fig = make_subplots(rows=1, cols=2,\n",
    "specs=[\n",
    "[{\"type\": \"choropleth\"},{\"type\": \"xy\"}],\n",
    "])\n",
    "\n",
    "feature = 'cases per day'\n",
    "time = 'month'\n",
    "geo = 'region'\n",
    "database = df_region\n",
    "\n",
    "select_analysis(feature, time, geo_dict[geo], database)\n",
    "df = select_analysis(feature, time, geo_dict[geo], database)\n",
    "\n",
    "fig.add_trace(trace=go.Choropleth(z=df[feature], \n",
    "                                  geojson = geo_dict[geo][\"geojson\"], \n",
    "                                  featureidkey = geo_dict[geo][\"featureidkey\"], \n",
    "                                    locations=df[geo_dict[geo][\"locations\"]], name=feature,\n",
    "                                    uid = time,\n",
    "                                    zmin=df[feature].min(),\n",
    "                                    zmax=df[feature].max()),\n",
    "                   row=1, col=1)\n",
    "\n",
    "for region in df_region[\"region\"].drop_duplicates():\n",
    "    df_region = df.loc[df[\"region\"] == region]\n",
    "    fig.add_trace(\n",
    "        go.Scatter(y=df_region[feature], x=df_region[time], mode='lines', name='region'),\n",
    "        row=1, col=2\n",
    "    )\n",
    "\n",
    "fig.update_geos(fitbounds = \"locations\", visible = False)\n",
    "fig.show()"
   ]
  }
 ],
 "metadata": {
  "kernelspec": {
   "display_name": "Python 3",
   "language": "python",
   "name": "python3"
  },
  "language_info": {
   "codemirror_mode": {
    "name": "ipython",
    "version": 3
   },
   "file_extension": ".py",
   "mimetype": "text/x-python",
   "name": "python",
   "nbconvert_exporter": "python",
   "pygments_lexer": "ipython3",
   "version": "3.9.13"
  },
  "orig_nbformat": 4
 },
 "nbformat": 4,
 "nbformat_minor": 2
}
